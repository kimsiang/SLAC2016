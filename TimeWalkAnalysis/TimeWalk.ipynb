{
 "cells": [
  {
   "cell_type": "markdown",
   "metadata": {
    "deletable": true,
    "editable": true
   },
   "source": [
    "# This is a summary of a time walk analysis (2017.03.10)\n",
    "\n",
    "In principle we are looking at the time difference between a laser sync pulse in a SiPM and the same laser pulse in the PMT1 of local monitor. The former is affected by the filter wheel setting while the latter is not."
   ]
  },
  {
   "cell_type": "markdown",
   "metadata": {
    "deletable": true,
    "editable": true
   },
   "source": [
    "## 1. Basic setup\n",
    "\n",
    "The datasets were taken at SLAC in summer 2016. Data from a calibration run from run number 2133 to 2139 were used for this analysis."
   ]
  },
  {
   "cell_type": "code",
   "execution_count": 1,
   "metadata": {
    "collapsed": false,
    "deletable": true,
    "editable": true
   },
   "outputs": [
    {
     "data": {
      "application/javascript": [
       "\n",
       "require(['notebook'],\n",
       "  function() {\n",
       "    IPython.CodeCell.config_defaults.highlight_modes['magic_text/x-c++src'] = {'reg':[/^%%cpp/]};\n",
       "    console.log(\"JupyROOT - %%cpp magic configured\");\n",
       "  }\n",
       ");\n"
      ]
     },
     "metadata": {},
     "output_type": "display_data"
    },
    {
     "name": "stdout",
     "output_type": "stream",
     "text": [
      "Welcome to JupyROOT 6.08/04\n"
     ]
    }
   ],
   "source": [
    "import ROOT\n",
    "file1 = ROOT.TFile(\"gm2slac_timeWalk_run02133.root\")\n",
    "file2 = ROOT.TFile(\"gm2slac_timeWalk_run02134.root\")\n",
    "file3 = ROOT.TFile(\"gm2slac_timeWalk_run02135.root\")\n",
    "file4 = ROOT.TFile(\"gm2slac_timeWalk_run02136.root\")\n",
    "file5 = ROOT.TFile(\"gm2slac_timeWalk_run02137.root\")\n",
    "file6 = ROOT.TFile(\"gm2slac_timeWalk_run02138.root\")\n",
    "file7 = ROOT.TFile(\"gm2slac_timeWalk_run02139.root\")"
   ]
  },
  {
   "cell_type": "markdown",
   "metadata": {
    "deletable": true,
    "editable": true
   },
   "source": [
    "## 2. Sync pulse time extraction from LM PMT1\n",
    "\n",
    "There are two easy ways of doing this:\n",
    "\n",
    "* time of the peak sample (starting from below, *_dt2_*)\n",
    "\n",
    "* time from the parabolic fit of the (peak-1), peak and (peak+1) samples (starting from below, *_dt1_*)\n",
    "\n",
    "where dt_i is the time difference between the sync pulses in __LM PMT1__ and __Calo SiPM0__."
   ]
  },
  {
   "cell_type": "code",
   "execution_count": 2,
   "metadata": {
    "collapsed": false,
    "deletable": true,
    "editable": true
   },
   "outputs": [],
   "source": [
    "fw1_dt1 = file1.Get(\"timeWalkAnalyzer/dt1\")\n",
    "fw2_dt1 = file2.Get(\"timeWalkAnalyzer/dt1\")\n",
    "fw3_dt1 = file3.Get(\"timeWalkAnalyzer/dt1\")\n",
    "fw4_dt1 = file4.Get(\"timeWalkAnalyzer/dt1\")\n",
    "fw5_dt1 = file5.Get(\"timeWalkAnalyzer/dt1\")\n",
    "fw6_dt1 = file6.Get(\"timeWalkAnalyzer/dt1\")\n",
    "fw7_dt1 = file7.Get(\"timeWalkAnalyzer/dt1\")\n",
    "fw1_dt2 = file1.Get(\"timeWalkAnalyzer/dt2\")\n",
    "fw2_dt2 = file2.Get(\"timeWalkAnalyzer/dt2\")\n",
    "fw3_dt2 = file3.Get(\"timeWalkAnalyzer/dt2\")\n",
    "fw4_dt2 = file4.Get(\"timeWalkAnalyzer/dt2\")\n",
    "fw5_dt2 = file5.Get(\"timeWalkAnalyzer/dt2\")\n",
    "fw6_dt2 = file6.Get(\"timeWalkAnalyzer/dt2\")\n",
    "fw7_dt2 = file7.Get(\"timeWalkAnalyzer/dt2\")"
   ]
  },
  {
   "cell_type": "markdown",
   "metadata": {
    "deletable": true,
    "editable": true
   },
   "source": [
    "## 3. Comparison between two methods\n",
    "\n",
    "Here I am trying to show the difference between the two methods. I expect the parabolic time to be more precise."
   ]
  },
  {
   "cell_type": "code",
   "execution_count": 3,
   "metadata": {
    "collapsed": false,
    "deletable": true,
    "editable": true
   },
   "outputs": [
    {
     "data": {
      "image/png": "[encoded data removed]",
      "text/plain": [
       "<IPython.core.display.Image object>"
      ]
     },
     "metadata": {},
     "output_type": "display_data"
    }
   ],
   "source": [
    "%jsroot off\n",
    "c1 = ROOT.TCanvas(\"c1\",\"c1\",600,400)\n",
    "fw1_dt1.SetLineColor(2)\n",
    "fw1_dt2.SetLineColor(4)\n",
    "fw1_dt1.SetTitle(\"dt\")\n",
    "fw1_dt1.GetXaxis().SetTitle(\"dt [c.t.]\")\n",
    "fw1_dt1.Draw()\n",
    "fw1_dt2.Draw(\"sames\")\n",
    "c1.Draw()"
   ]
  },
  {
   "cell_type": "markdown",
   "metadata": {
    "deletable": true,
    "editable": true
   },
   "source": [
    "You can see that dt1(blue) is narrower that the dt2 (red), which is expected."
   ]
  },
  {
   "cell_type": "markdown",
   "metadata": {
    "deletable": true,
    "editable": true
   },
   "source": [
    "## 4. Comparison from filterwheel 1 to filterwheel 7\n",
    "\n",
    "Here the main purpose is to see if there is any time walk when the pulse amplitude changes."
   ]
  },
  {
   "cell_type": "code",
   "execution_count": 4,
   "metadata": {
    "collapsed": false,
    "deletable": true,
    "editable": true,
    "scrolled": false
   },
   "outputs": [
    {
     "data": {
      "image/png": "[encoded data removed]",
      "text/plain": [
       "<IPython.core.display.Image object>"
      ]
     },
     "metadata": {},
     "output_type": "display_data"
    }
   ],
   "source": [
    "%jsroot off\n",
    "c2 = ROOT.TCanvas(\"c2\",\"c2\",600,600)\n",
    "c2.Divide(1,7,0,0)\n",
    "fw1_dt1.SetLineColor(1)\n",
    "fw2_dt1.SetLineColor(2)\n",
    "fw3_dt1.SetLineColor(3)\n",
    "fw4_dt1.SetLineColor(4)\n",
    "fw5_dt1.SetLineColor(6)\n",
    "fw6_dt1.SetLineColor(7)\n",
    "fw7_dt1.SetLineColor(8)\n",
    "\n",
    "fw1_dt1.SetLineWidth(2)\n",
    "fw2_dt1.SetLineWidth(2)\n",
    "fw3_dt1.SetLineWidth(2)\n",
    "fw4_dt1.SetLineWidth(2)\n",
    "fw5_dt1.SetLineWidth(2)\n",
    "fw6_dt1.SetLineWidth(2)\n",
    "fw7_dt1.SetLineWidth(2)\n",
    "\n",
    "c2.cd(1)\n",
    "fw1_dt1.Draw()\n",
    "c2.cd(2)\n",
    "fw2_dt1.Draw()\n",
    "c2.cd(3)\n",
    "fw3_dt1.Draw()\n",
    "c2.cd(4)\n",
    "fw4_dt1.Draw()\n",
    "c2.cd(5)\n",
    "fw5_dt1.Draw()\n",
    "c2.cd(6)\n",
    "fw6_dt1.Draw()\n",
    "c2.cd(7)\n",
    "fw7_dt1.GetXaxis().SetTitle(\"dt [c.t.]\")\n",
    "fw7_dt1.GetXaxis().SetLabelSize(0.12)\n",
    "fw7_dt1.Draw()\n",
    "\n",
    "c2.Draw()"
   ]
  },
  {
   "cell_type": "markdown",
   "metadata": {
    "deletable": true,
    "editable": true
   },
   "source": [
    "Here, the filterwheel setting is from 1 to 7 as we go from top to bottom. We can also look at FW1 and FW7 overlaid:"
   ]
  },
  {
   "cell_type": "code",
   "execution_count": 5,
   "metadata": {
    "collapsed": false,
    "deletable": true,
    "editable": true
   },
   "outputs": [
    {
     "data": {
      "image/png": "[encoded data removed]",
      "text/plain": [
       "<IPython.core.display.Image object>"
      ]
     },
     "metadata": {},
     "output_type": "display_data"
    }
   ],
   "source": [
    "c3 = ROOT.TCanvas(\"c3\",\"c3\",600,400)\n",
    "fw1_dt1.Draw()\n",
    "fw1_dt1.SetTitle(\"dt\")\n",
    "fw1_dt1.GetXaxis().SetTitle(\"dt [c.t.]\")\n",
    "fw7_dt1.Draw(\"same\")\n",
    "leg = ROOT.TLegend(0.6,0.5,0.8,0.7)\n",
    "leg.AddEntry(fw1_dt1,\"FW1\",\"l\")\n",
    "leg.AddEntry(fw7_dt1,\"FW7\",\"l\")\n",
    "leg.Draw()\n",
    "c3.Draw()"
   ]
  },
  {
   "cell_type": "markdown",
   "metadata": {
    "deletable": true,
    "editable": true
   },
   "source": [
    "In princple we do not see any significant time walk from FW1 to FW7."
   ]
  },
  {
   "cell_type": "markdown",
   "metadata": {
    "deletable": true,
    "editable": true
   },
   "source": [
    "## 5. Energy versus dt1\n",
    "\n",
    "Another way of looking at the data is to plot energy versus dt1 for all the filterwheel settings."
   ]
  },
  {
   "cell_type": "code",
   "execution_count": 6,
   "metadata": {
    "collapsed": false,
    "deletable": true,
    "editable": true
   },
   "outputs": [
    {
     "data": {
      "text/plain": [
       "True"
      ]
     },
     "execution_count": 6,
     "metadata": {},
     "output_type": "execute_result"
    }
   ],
   "source": [
    "fw1_edt1 = file1.Get(\"timeWalkAnalyzer/edt1\")\n",
    "fw2_edt1 = file2.Get(\"timeWalkAnalyzer/edt1\")\n",
    "fw3_edt1 = file3.Get(\"timeWalkAnalyzer/edt1\")\n",
    "fw4_edt1 = file4.Get(\"timeWalkAnalyzer/edt1\")\n",
    "fw5_edt1 = file5.Get(\"timeWalkAnalyzer/edt1\")\n",
    "fw6_edt1 = file6.Get(\"timeWalkAnalyzer/edt1\")\n",
    "fw7_edt1 = file7.Get(\"timeWalkAnalyzer/edt1\")\n",
    "fw1_edt1.Add(fw2_edt1)\n",
    "fw1_edt1.Add(fw3_edt1)\n",
    "fw1_edt1.Add(fw4_edt1)\n",
    "fw1_edt1.Add(fw5_edt1)\n",
    "fw1_edt1.Add(fw6_edt1)\n",
    "fw1_edt1.Add(fw7_edt1)"
   ]
  },
  {
   "cell_type": "code",
   "execution_count": 7,
   "metadata": {
    "collapsed": false,
    "deletable": true,
    "editable": true
   },
   "outputs": [
    {
     "data": {
      "image/png": "[encoded data removed]",
      "text/plain": [
       "<IPython.core.display.Image object>"
      ]
     },
     "metadata": {},
     "output_type": "display_data"
    }
   ],
   "source": [
    "c4 = ROOT.TCanvas(\"c4\",\"c4\",600,400)\n",
    "fw1_edt1.SetTitle(\"E vs dt\")\n",
    "fw1_edt1.GetXaxis().SetTitle(\"dt [c.t.]\")\n",
    "fw1_edt1.GetYaxis().SetTitle(\"Energy [#photons]\")\n",
    "fw1_edt1.GetYaxis().SetTitleOffset(1.3)\n",
    "fw1_edt1.Draw(\"colz\")\n",
    "c4.Draw()"
   ]
  },
  {
   "cell_type": "code",
   "execution_count": null,
   "metadata": {
    "collapsed": true,
    "deletable": true,
    "editable": true
   },
   "outputs": [],
   "source": []
  }
 ],
 "metadata": {
  "kernelspec": {
   "display_name": "Python 2",
   "language": "python",
   "name": "python2"
  },
  "language_info": {
   "codemirror_mode": {
    "name": "ipython",
    "version": 2
   },
   "file_extension": ".py",
   "mimetype": "text/x-python",
   "name": "python",
   "nbconvert_exporter": "python",
   "pygments_lexer": "ipython2",
   "version": "2.7.13"
  }
 },
 "nbformat": 4,
 "nbformat_minor": 2
}
