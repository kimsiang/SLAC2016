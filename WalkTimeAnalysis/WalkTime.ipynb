{
 "cells": [
  {
   "cell_type": "markdown",
   "metadata": {},
   "source": [
    "# This is a summary of a walk time analysis\n",
    "\n",
    "In principle we are looking at the time difference between a laser sync pulse in a SiPM and the same laser pulse in the PMT1 of local monitor. The former is affected by the filter wheel setting while the latter is not."
   ]
  },
  {
   "cell_type": "markdown",
   "metadata": {},
   "source": [
    "## 1. Basic setup"
   ]
  },
  {
   "cell_type": "code",
   "execution_count": null,
   "metadata": {
    "collapsed": false,
    "deletable": true,
    "editable": true
   },
   "outputs": [],
   "source": [
    "import ROOT\n",
    "file1 = ROOT.TFile(\"gm2slac_timeWalk_run02133.root\")\n",
    "file2 = ROOT.TFile(\"gm2slac_timeWalk_run02134.root\")\n",
    "file3 = ROOT.TFile(\"gm2slac_timeWalk_run02135.root\")\n",
    "file4 = ROOT.TFile(\"gm2slac_timeWalk_run02136.root\")\n",
    "file5 = ROOT.TFile(\"gm2slac_timeWalk_run02137.root\")\n",
    "file6 = ROOT.TFile(\"gm2slac_timeWalk_run02138.root\")\n",
    "file7 = ROOT.TFile(\"gm2slac_timeWalk_run02139.root\")"
   ]
  },
  {
   "cell_type": "markdown",
   "metadata": {},
   "source": [
    "## 2. Sync pulse time extraction from LM PMT1\n",
    "\n",
    "There are two easy ways of doing this:\n",
    "\n",
    "* time of the peak sample (starting from below, *_dt2_*)\n",
    "\n",
    "* time from the parabolic fit of the (peak-1), peak and (peak+1) samples (starting from below, *_dt1_*)"
   ]
  },
  {
   "cell_type": "code",
   "execution_count": null,
   "metadata": {
    "collapsed": false,
    "deletable": true,
    "editable": true
   },
   "outputs": [],
   "source": [
    "fw1_dt1 = file1.Get(\"timeWalkAnalyzer/dt1\")\n",
    "fw2_dt1 = file2.Get(\"timeWalkAnalyzer/dt1\")\n",
    "fw3_dt1 = file3.Get(\"timeWalkAnalyzer/dt1\")\n",
    "fw4_dt1 = file4.Get(\"timeWalkAnalyzer/dt1\")\n",
    "fw5_dt1 = file5.Get(\"timeWalkAnalyzer/dt1\")\n",
    "fw6_dt1 = file6.Get(\"timeWalkAnalyzer/dt1\")\n",
    "fw7_dt1 = file7.Get(\"timeWalkAnalyzer/dt1\")\n",
    "fw1_dt2 = file1.Get(\"timeWalkAnalyzer/dt2\")\n",
    "fw2_dt2 = file2.Get(\"timeWalkAnalyzer/dt2\")\n",
    "fw3_dt2 = file3.Get(\"timeWalkAnalyzer/dt2\")\n",
    "fw4_dt2 = file4.Get(\"timeWalkAnalyzer/dt2\")\n",
    "fw5_dt2 = file5.Get(\"timeWalkAnalyzer/dt2\")\n",
    "fw6_dt2 = file6.Get(\"timeWalkAnalyzer/dt2\")\n",
    "fw7_dt2 = file7.Get(\"timeWalkAnalyzer/dt2\")"
   ]
  },
  {
   "cell_type": "markdown",
   "metadata": {},
   "source": [
    "## 3. Comparison between two methods\n",
    "\n",
    "Here I am trying to show the difference between the two methods. I expect the parabolic time to be more precise."
   ]
  },
  {
   "cell_type": "code",
   "execution_count": null,
   "metadata": {
    "collapsed": false
   },
   "outputs": [],
   "source": [
    "%jsroot off\n",
    "c1 = ROOT.TCanvas(\"c1\",\"c1\",800,600)\n",
    "fw1_dt1.SetLineColor(2)\n",
    "fw1_dt2.SetLineColor(4)\n",
    "fw1_dt1.Draw()\n",
    "fw1_dt2.Draw(\"sames\")\n",
    "c1.Draw()"
   ]
  },
  {
   "cell_type": "markdown",
   "metadata": {},
   "source": [
    "You can see that dt1(blue) is narrower that the dt2 (red), which is expected."
   ]
  },
  {
   "cell_type": "markdown",
   "metadata": {},
   "source": [
    "## 4. Comparison from filterwheel 1 to filterwheel 7\n",
    "\n",
    "Here the main purpose is to see if there is any time walk when the pulse amplitude changes."
   ]
  },
  {
   "cell_type": "code",
   "execution_count": null,
   "metadata": {
    "collapsed": false,
    "deletable": true,
    "editable": true,
    "scrolled": false
   },
   "outputs": [],
   "source": [
    "%jsroot off\n",
    "c2 = ROOT.TCanvas(\"c2\",\"c2\",800,600)\n",
    "c2.Divide(1,7,0,0)\n",
    "fw1_dt1.SetLineColor(1)\n",
    "fw2_dt1.SetLineColor(2)\n",
    "fw3_dt1.SetLineColor(3)\n",
    "fw4_dt1.SetLineColor(4)\n",
    "fw5_dt1.SetLineColor(6)\n",
    "fw6_dt1.SetLineColor(7)\n",
    "fw7_dt1.SetLineColor(8)\n",
    "\n",
    "fw1_dt1.SetLineWidth(2)\n",
    "fw2_dt1.SetLineWidth(2)\n",
    "fw3_dt1.SetLineWidth(2)\n",
    "fw4_dt1.SetLineWidth(2)\n",
    "fw5_dt1.SetLineWidth(2)\n",
    "fw6_dt1.SetLineWidth(2)\n",
    "fw7_dt1.SetLineWidth(2)\n",
    "\n",
    "c2.cd(1)\n",
    "fw1_dt1.Draw()\n",
    "c2.cd(2)\n",
    "fw2_dt1.Draw()\n",
    "c2.cd(3)\n",
    "fw3_dt1.Draw()\n",
    "c2.cd(4)\n",
    "fw4_dt1.Draw()\n",
    "c2.cd(5)\n",
    "fw5_dt1.Draw()\n",
    "c2.cd(6)\n",
    "fw6_dt1.Draw()\n",
    "c2.cd(7)\n",
    "fw7_dt1.GetXaxis().SetLabelSize(0.12)\n",
    "fw7_dt1.Draw()\n",
    "\n",
    "c2.Draw()"
   ]
  },
  {
   "cell_type": "markdown",
   "metadata": {},
   "source": [
    "Here, the filterwheel setting is from 1 to 7 as we go from top to bottom. We can also look at FW1 and FW7 overlaid:"
   ]
  },
  {
   "cell_type": "code",
   "execution_count": null,
   "metadata": {
    "collapsed": false
   },
   "outputs": [],
   "source": [
    "c3 = ROOT.TCanvas(\"c3\",\"c3\",800,600)\n",
    "fw1_dt1.Draw()\n",
    "fw7_dt1.Draw(\"same\")\n",
    "c3.Draw()"
   ]
  },
  {
   "cell_type": "markdown",
   "metadata": {},
   "source": [
    "In princple we do not see any significant time walk from FW1 to FW7."
   ]
  },
  {
   "cell_type": "markdown",
   "metadata": {},
   "source": [
    "## 5. Energy versus dt1\n",
    "\n",
    "Another way of looking at the data is to plot energy versus dt1 for all the filterwheel settings."
   ]
  },
  {
   "cell_type": "code",
   "execution_count": null,
   "metadata": {
    "collapsed": false,
    "deletable": true,
    "editable": true
   },
   "outputs": [],
   "source": [
    "fw1_edt1 = file1.Get(\"timeWalkAnalyzer/edt1\")\n",
    "fw2_edt1 = file2.Get(\"timeWalkAnalyzer/edt1\")\n",
    "fw3_edt1 = file3.Get(\"timeWalkAnalyzer/edt1\")\n",
    "fw4_edt1 = file4.Get(\"timeWalkAnalyzer/edt1\")\n",
    "fw5_edt1 = file5.Get(\"timeWalkAnalyzer/edt1\")\n",
    "fw6_edt1 = file6.Get(\"timeWalkAnalyzer/edt1\")\n",
    "fw7_edt1 = file7.Get(\"timeWalkAnalyzer/edt1\")\n",
    "fw1_edt1.Add(fw2_edt1)\n",
    "fw1_edt1.Add(fw3_edt1)\n",
    "fw1_edt1.Add(fw4_edt1)\n",
    "fw1_edt1.Add(fw5_edt1)\n",
    "fw1_edt1.Add(fw6_edt1)\n",
    "fw1_edt1.Add(fw7_edt1)"
   ]
  },
  {
   "cell_type": "code",
   "execution_count": null,
   "metadata": {
    "collapsed": false,
    "deletable": true,
    "editable": true
   },
   "outputs": [],
   "source": [
    "c4 = ROOT.TCanvas(\"c4\",\"c4\",800,600)\n",
    "fw1_edt1.Draw(\"colz\")\n",
    "c4.Draw()"
   ]
  },
  {
   "cell_type": "code",
   "execution_count": null,
   "metadata": {
    "collapsed": true,
    "deletable": true,
    "editable": true
   },
   "outputs": [],
   "source": []
  }
 ],
 "metadata": {
  "kernelspec": {
   "display_name": "Python 2",
   "language": "python",
   "name": "python2"
  },
  "language_info": {
   "codemirror_mode": {
    "name": "ipython",
    "version": 2
   },
   "file_extension": ".py",
   "mimetype": "text/x-python",
   "name": "python",
   "nbconvert_exporter": "python",
   "pygments_lexer": "ipython2",
   "version": "2.7.13"
  }
 },
 "nbformat": 4,
 "nbformat_minor": 2
}
